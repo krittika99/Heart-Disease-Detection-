{
 "cells": [
  {
   "cell_type": "code",
   "execution_count": 34,
   "metadata": {
    "id": "7Mld3rEfb82o"
   },
   "outputs": [],
   "source": [
    "import numpy as np\n",
    "import matplotlib.pyplot as plt\n",
    "import pandas as pd"
   ]
  },
  {
   "cell_type": "code",
   "execution_count": 35,
   "metadata": {
    "id": "EnaxtRooccLd"
   },
   "outputs": [],
   "source": [
    "dataset = pd.read_csv('/content/heart.csv')\n",
    "x=dataset.iloc[:,:-1].values\n",
    "y=dataset.iloc[:,-1].values"
   ]
  },
  {
   "cell_type": "code",
   "execution_count": 36,
   "metadata": {
    "colab": {
     "base_uri": "https://localhost:8080/"
    },
    "id": "7CyhdcewquF-",
    "outputId": "dbef2808-4044-437d-d8f0-b67b29b5db9a"
   },
   "outputs": [
    {
     "data": {
      "text/plain": [
       "array([1, 1, 1, 1, 1, 1, 1, 1, 1, 1, 1, 1, 1, 1, 1, 1, 1, 1, 1, 1, 1, 1,\n",
       "       1, 1, 1, 1, 1, 1, 1, 1, 1, 1, 1, 1, 1, 1, 1, 1, 1, 1, 1, 1, 1, 1,\n",
       "       1, 1, 1, 1, 1, 1, 1, 1, 1, 1, 1, 1, 1, 1, 1, 1, 1, 1, 1, 1, 1, 1,\n",
       "       1, 1, 1, 1, 1, 1, 1, 1, 1, 1, 1, 1, 1, 1, 1, 1, 1, 1, 1, 1, 1, 1,\n",
       "       1, 1, 1, 1, 1, 1, 1, 1, 1, 1, 1, 1, 1, 1, 1, 1, 1, 1, 1, 1, 1, 1,\n",
       "       1, 1, 1, 1, 1, 1, 1, 1, 1, 1, 1, 1, 1, 1, 1, 1, 1, 1, 1, 1, 1, 1,\n",
       "       1, 1, 1, 1, 1, 1, 1, 1, 1, 1, 1, 1, 1, 1, 1, 1, 1, 1, 1, 1, 1, 1,\n",
       "       1, 1, 1, 1, 1, 1, 1, 1, 1, 1, 1, 0, 0, 0, 0, 0, 0, 0, 0, 0, 0, 0,\n",
       "       0, 0, 0, 0, 0, 0, 0, 0, 0, 0, 0, 0, 0, 0, 0, 0, 0, 0, 0, 0, 0, 0,\n",
       "       0, 0, 0, 0, 0, 0, 0, 0, 0, 0, 0, 0, 0, 0, 0, 0, 0, 0, 0, 0, 0, 0,\n",
       "       0, 0, 0, 0, 0, 0, 0, 0, 0, 0, 0, 0, 0, 0, 0, 0, 0, 0, 0, 0, 0, 0,\n",
       "       0, 0, 0, 0, 0, 0, 0, 0, 0, 0, 0, 0, 0, 0, 0, 0, 0, 0, 0, 0, 0, 0,\n",
       "       0, 0, 0, 0, 0, 0, 0, 0, 0, 0, 0, 0, 0, 0, 0, 0, 0, 0, 0, 0, 0, 0,\n",
       "       0, 0, 0, 0, 0, 0, 0, 0, 0, 0, 0, 0, 0, 0, 0, 0, 0])"
      ]
     },
     "execution_count": 36,
     "metadata": {
      "tags": []
     },
     "output_type": "execute_result"
    }
   ],
   "source": [
    "\n",
    "y"
   ]
  },
  {
   "cell_type": "code",
   "execution_count": 37,
   "metadata": {
    "colab": {
     "base_uri": "https://localhost:8080/",
     "height": 415
    },
    "id": "ABaLxTKEqIcV",
    "outputId": "cb54515c-d344-476d-b6f6-feda84611d6f"
   },
   "outputs": [
    {
     "data": {
      "text/html": [
       "<div>\n",
       "<style scoped>\n",
       "    .dataframe tbody tr th:only-of-type {\n",
       "        vertical-align: middle;\n",
       "    }\n",
       "\n",
       "    .dataframe tbody tr th {\n",
       "        vertical-align: top;\n",
       "    }\n",
       "\n",
       "    .dataframe thead th {\n",
       "        text-align: right;\n",
       "    }\n",
       "</style>\n",
       "<table border=\"1\" class=\"dataframe\">\n",
       "  <thead>\n",
       "    <tr style=\"text-align: right;\">\n",
       "      <th></th>\n",
       "      <th>age</th>\n",
       "      <th>sex</th>\n",
       "      <th>cp</th>\n",
       "      <th>trestbps</th>\n",
       "      <th>chol</th>\n",
       "      <th>fbs</th>\n",
       "      <th>restecg</th>\n",
       "      <th>thalach</th>\n",
       "      <th>exang</th>\n",
       "      <th>oldpeak</th>\n",
       "      <th>slope</th>\n",
       "      <th>ca</th>\n",
       "      <th>thal</th>\n",
       "      <th>target</th>\n",
       "    </tr>\n",
       "  </thead>\n",
       "  <tbody>\n",
       "    <tr>\n",
       "      <th>0</th>\n",
       "      <td>63</td>\n",
       "      <td>1</td>\n",
       "      <td>3</td>\n",
       "      <td>145</td>\n",
       "      <td>233</td>\n",
       "      <td>1</td>\n",
       "      <td>0</td>\n",
       "      <td>150</td>\n",
       "      <td>0</td>\n",
       "      <td>2.3</td>\n",
       "      <td>0</td>\n",
       "      <td>0</td>\n",
       "      <td>1</td>\n",
       "      <td>1</td>\n",
       "    </tr>\n",
       "    <tr>\n",
       "      <th>1</th>\n",
       "      <td>37</td>\n",
       "      <td>1</td>\n",
       "      <td>2</td>\n",
       "      <td>130</td>\n",
       "      <td>250</td>\n",
       "      <td>0</td>\n",
       "      <td>1</td>\n",
       "      <td>187</td>\n",
       "      <td>0</td>\n",
       "      <td>3.5</td>\n",
       "      <td>0</td>\n",
       "      <td>0</td>\n",
       "      <td>2</td>\n",
       "      <td>1</td>\n",
       "    </tr>\n",
       "    <tr>\n",
       "      <th>2</th>\n",
       "      <td>41</td>\n",
       "      <td>0</td>\n",
       "      <td>1</td>\n",
       "      <td>130</td>\n",
       "      <td>204</td>\n",
       "      <td>0</td>\n",
       "      <td>0</td>\n",
       "      <td>172</td>\n",
       "      <td>0</td>\n",
       "      <td>1.4</td>\n",
       "      <td>2</td>\n",
       "      <td>0</td>\n",
       "      <td>2</td>\n",
       "      <td>1</td>\n",
       "    </tr>\n",
       "    <tr>\n",
       "      <th>3</th>\n",
       "      <td>56</td>\n",
       "      <td>1</td>\n",
       "      <td>1</td>\n",
       "      <td>120</td>\n",
       "      <td>236</td>\n",
       "      <td>0</td>\n",
       "      <td>1</td>\n",
       "      <td>178</td>\n",
       "      <td>0</td>\n",
       "      <td>0.8</td>\n",
       "      <td>2</td>\n",
       "      <td>0</td>\n",
       "      <td>2</td>\n",
       "      <td>1</td>\n",
       "    </tr>\n",
       "    <tr>\n",
       "      <th>4</th>\n",
       "      <td>57</td>\n",
       "      <td>0</td>\n",
       "      <td>0</td>\n",
       "      <td>120</td>\n",
       "      <td>354</td>\n",
       "      <td>0</td>\n",
       "      <td>1</td>\n",
       "      <td>163</td>\n",
       "      <td>1</td>\n",
       "      <td>0.6</td>\n",
       "      <td>2</td>\n",
       "      <td>0</td>\n",
       "      <td>2</td>\n",
       "      <td>1</td>\n",
       "    </tr>\n",
       "    <tr>\n",
       "      <th>...</th>\n",
       "      <td>...</td>\n",
       "      <td>...</td>\n",
       "      <td>...</td>\n",
       "      <td>...</td>\n",
       "      <td>...</td>\n",
       "      <td>...</td>\n",
       "      <td>...</td>\n",
       "      <td>...</td>\n",
       "      <td>...</td>\n",
       "      <td>...</td>\n",
       "      <td>...</td>\n",
       "      <td>...</td>\n",
       "      <td>...</td>\n",
       "      <td>...</td>\n",
       "    </tr>\n",
       "    <tr>\n",
       "      <th>298</th>\n",
       "      <td>57</td>\n",
       "      <td>0</td>\n",
       "      <td>0</td>\n",
       "      <td>140</td>\n",
       "      <td>241</td>\n",
       "      <td>0</td>\n",
       "      <td>1</td>\n",
       "      <td>123</td>\n",
       "      <td>1</td>\n",
       "      <td>0.2</td>\n",
       "      <td>1</td>\n",
       "      <td>0</td>\n",
       "      <td>3</td>\n",
       "      <td>0</td>\n",
       "    </tr>\n",
       "    <tr>\n",
       "      <th>299</th>\n",
       "      <td>45</td>\n",
       "      <td>1</td>\n",
       "      <td>3</td>\n",
       "      <td>110</td>\n",
       "      <td>264</td>\n",
       "      <td>0</td>\n",
       "      <td>1</td>\n",
       "      <td>132</td>\n",
       "      <td>0</td>\n",
       "      <td>1.2</td>\n",
       "      <td>1</td>\n",
       "      <td>0</td>\n",
       "      <td>3</td>\n",
       "      <td>0</td>\n",
       "    </tr>\n",
       "    <tr>\n",
       "      <th>300</th>\n",
       "      <td>68</td>\n",
       "      <td>1</td>\n",
       "      <td>0</td>\n",
       "      <td>144</td>\n",
       "      <td>193</td>\n",
       "      <td>1</td>\n",
       "      <td>1</td>\n",
       "      <td>141</td>\n",
       "      <td>0</td>\n",
       "      <td>3.4</td>\n",
       "      <td>1</td>\n",
       "      <td>2</td>\n",
       "      <td>3</td>\n",
       "      <td>0</td>\n",
       "    </tr>\n",
       "    <tr>\n",
       "      <th>301</th>\n",
       "      <td>57</td>\n",
       "      <td>1</td>\n",
       "      <td>0</td>\n",
       "      <td>130</td>\n",
       "      <td>131</td>\n",
       "      <td>0</td>\n",
       "      <td>1</td>\n",
       "      <td>115</td>\n",
       "      <td>1</td>\n",
       "      <td>1.2</td>\n",
       "      <td>1</td>\n",
       "      <td>1</td>\n",
       "      <td>3</td>\n",
       "      <td>0</td>\n",
       "    </tr>\n",
       "    <tr>\n",
       "      <th>302</th>\n",
       "      <td>57</td>\n",
       "      <td>0</td>\n",
       "      <td>1</td>\n",
       "      <td>130</td>\n",
       "      <td>236</td>\n",
       "      <td>0</td>\n",
       "      <td>0</td>\n",
       "      <td>174</td>\n",
       "      <td>0</td>\n",
       "      <td>0.0</td>\n",
       "      <td>1</td>\n",
       "      <td>1</td>\n",
       "      <td>2</td>\n",
       "      <td>0</td>\n",
       "    </tr>\n",
       "  </tbody>\n",
       "</table>\n",
       "<p>303 rows × 14 columns</p>\n",
       "</div>"
      ],
      "text/plain": [
       "     age  sex  cp  trestbps  chol  fbs  ...  exang  oldpeak  slope  ca  thal  target\n",
       "0     63    1   3       145   233    1  ...      0      2.3      0   0     1       1\n",
       "1     37    1   2       130   250    0  ...      0      3.5      0   0     2       1\n",
       "2     41    0   1       130   204    0  ...      0      1.4      2   0     2       1\n",
       "3     56    1   1       120   236    0  ...      0      0.8      2   0     2       1\n",
       "4     57    0   0       120   354    0  ...      1      0.6      2   0     2       1\n",
       "..   ...  ...  ..       ...   ...  ...  ...    ...      ...    ...  ..   ...     ...\n",
       "298   57    0   0       140   241    0  ...      1      0.2      1   0     3       0\n",
       "299   45    1   3       110   264    0  ...      0      1.2      1   0     3       0\n",
       "300   68    1   0       144   193    1  ...      0      3.4      1   2     3       0\n",
       "301   57    1   0       130   131    0  ...      1      1.2      1   1     3       0\n",
       "302   57    0   1       130   236    0  ...      0      0.0      1   1     2       0\n",
       "\n",
       "[303 rows x 14 columns]"
      ]
     },
     "execution_count": 37,
     "metadata": {
      "tags": []
     },
     "output_type": "execute_result"
    }
   ],
   "source": [
    "dataset"
   ]
  },
  {
   "cell_type": "code",
   "execution_count": 38,
   "metadata": {
    "id": "KbpR_5S3JSAE"
   },
   "outputs": [],
   "source": [
    "from sklearn.model_selection import train_test_split\n",
    "x_train, x_test, y_train, y_test = train_test_split(x, y, test_size = 0.2, random_state = 0)"
   ]
  },
  {
   "cell_type": "code",
   "execution_count": 39,
   "metadata": {
    "colab": {
     "base_uri": "https://localhost:8080/"
    },
    "id": "UdgS76tth1R0",
    "outputId": "ff9224fc-33b1-4c8d-f3b3-ec36e9d4a7ee"
   },
   "outputs": [
    {
     "name": "stderr",
     "output_type": "stream",
     "text": [
      "/usr/local/lib/python3.6/dist-packages/sklearn/discriminant_analysis.py:463: ChangedBehaviorWarning: n_components cannot be larger than min(n_features, n_classes - 1). Using min(n_features, n_classes - 1) = min(13, 2 - 1) = 1 components.\n",
      "  ChangedBehaviorWarning)\n",
      "/usr/local/lib/python3.6/dist-packages/sklearn/discriminant_analysis.py:469: FutureWarning: In version 0.23, setting n_components > min(n_features, n_classes - 1) will raise a ValueError. You should set n_components to None (default), or a value smaller or equal to min(n_features, n_classes - 1).\n",
      "  warnings.warn(future_msg, FutureWarning)\n"
     ]
    }
   ],
   "source": [
    "from sklearn.discriminant_analysis import LinearDiscriminantAnalysis as LDA\n",
    "lda = LDA(n_components = 5)\n",
    "x_train = lda.fit_transform(x_train, y_train)\n",
    "x_test = lda.transform(x_test)"
   ]
  },
  {
   "cell_type": "code",
   "execution_count": 40,
   "metadata": {
    "colab": {
     "base_uri": "https://localhost:8080/"
    },
    "id": "ciAd_evutMBs",
    "outputId": "18f9bfd1-d82b-4ed7-ee48-bfdda5b1bd2e"
   },
   "outputs": [
    {
     "data": {
      "text/plain": [
       "array([[ 2.28011405],\n",
       "       [ 1.29304306],\n",
       "       [ 1.12713495],\n",
       "       [ 0.45231235],\n",
       "       [ 0.28104698],\n",
       "       [ 0.63916824],\n",
       "       [-0.81006589],\n",
       "       [ 0.48696886],\n",
       "       [ 0.04366996],\n",
       "       [-0.14953291],\n",
       "       [ 1.5049131 ],\n",
       "       [ 0.84960769],\n",
       "       [-1.81132694],\n",
       "       [-1.51403343],\n",
       "       [ 0.99669867],\n",
       "       [-0.71278735],\n",
       "       [ 0.18157756],\n",
       "       [ 0.43479033],\n",
       "       [-0.56806004],\n",
       "       [-2.62752948],\n",
       "       [-2.20255228],\n",
       "       [-1.21891673],\n",
       "       [-0.28413088],\n",
       "       [-1.55266416],\n",
       "       [-0.04791851],\n",
       "       [-1.8303197 ],\n",
       "       [ 0.30559855],\n",
       "       [ 0.47568052],\n",
       "       [-0.90596443],\n",
       "       [-1.7289081 ],\n",
       "       [ 0.48302242],\n",
       "       [ 0.30645275],\n",
       "       [-1.82322632],\n",
       "       [ 1.42009274],\n",
       "       [-1.85343048],\n",
       "       [-1.60408934],\n",
       "       [-2.085508  ],\n",
       "       [ 1.57858834],\n",
       "       [-1.66249246],\n",
       "       [-1.5990848 ],\n",
       "       [ 2.25028304],\n",
       "       [-2.50199764],\n",
       "       [ 0.15023526],\n",
       "       [-0.95577282],\n",
       "       [ 1.01709404],\n",
       "       [ 1.30460123],\n",
       "       [ 0.865814  ],\n",
       "       [ 0.07336487],\n",
       "       [ 1.29031732],\n",
       "       [-1.46088455],\n",
       "       [-0.93707258],\n",
       "       [-0.42124979],\n",
       "       [-1.79313607],\n",
       "       [-1.70585279],\n",
       "       [-1.90227301],\n",
       "       [ 0.3314478 ],\n",
       "       [ 0.76222356],\n",
       "       [ 1.45428927],\n",
       "       [ 0.1146679 ],\n",
       "       [ 2.23520977],\n",
       "       [ 1.21875601],\n",
       "       [ 0.5515356 ],\n",
       "       [ 0.1076168 ],\n",
       "       [ 0.21096127],\n",
       "       [ 0.88825131],\n",
       "       [ 0.528814  ],\n",
       "       [-0.26450152],\n",
       "       [ 2.29757756],\n",
       "       [ 1.25439979],\n",
       "       [ 1.4812344 ],\n",
       "       [-1.3231264 ],\n",
       "       [ 0.31767136],\n",
       "       [ 0.55443514],\n",
       "       [ 0.56233788],\n",
       "       [-0.70035151],\n",
       "       [ 0.5511017 ],\n",
       "       [ 1.72626226],\n",
       "       [-2.74683974],\n",
       "       [-1.13752875],\n",
       "       [ 0.32224523],\n",
       "       [ 0.09730815],\n",
       "       [ 0.96549854],\n",
       "       [ 0.34566976],\n",
       "       [ 0.43688937],\n",
       "       [ 0.4534891 ],\n",
       "       [ 0.4217733 ],\n",
       "       [ 0.9983601 ],\n",
       "       [ 1.42630476],\n",
       "       [ 2.24298657],\n",
       "       [ 0.6609178 ],\n",
       "       [ 1.74456201],\n",
       "       [ 0.28504522],\n",
       "       [-2.08966837],\n",
       "       [-0.31461751],\n",
       "       [ 1.02563147],\n",
       "       [-1.32653339],\n",
       "       [-0.89827301],\n",
       "       [-2.60832902],\n",
       "       [ 1.72987481],\n",
       "       [ 0.04576163],\n",
       "       [ 1.66682606],\n",
       "       [-0.55609647],\n",
       "       [ 1.46918647],\n",
       "       [-2.85988931],\n",
       "       [ 0.1004025 ],\n",
       "       [ 0.13222944],\n",
       "       [-2.07853042],\n",
       "       [ 2.12144473],\n",
       "       [ 0.950235  ],\n",
       "       [ 1.98441783],\n",
       "       [ 0.84689902],\n",
       "       [ 1.92593781],\n",
       "       [-1.12185427],\n",
       "       [-1.3535928 ],\n",
       "       [ 2.38876255],\n",
       "       [-2.08196721],\n",
       "       [ 2.4830594 ],\n",
       "       [-2.97091596],\n",
       "       [ 1.42322396],\n",
       "       [ 1.67194954],\n",
       "       [-0.41846378],\n",
       "       [-2.31698982],\n",
       "       [ 0.90367311],\n",
       "       [ 0.83044587],\n",
       "       [-0.47654722],\n",
       "       [-0.2203279 ],\n",
       "       [ 0.57259389],\n",
       "       [ 1.36547513],\n",
       "       [ 1.29039172],\n",
       "       [-0.2771569 ],\n",
       "       [ 0.33612479],\n",
       "       [-2.80410361],\n",
       "       [ 0.40146399],\n",
       "       [-1.16964876],\n",
       "       [ 1.43308311],\n",
       "       [ 2.06404652],\n",
       "       [-1.58555382],\n",
       "       [ 0.37146454],\n",
       "       [ 0.81509529],\n",
       "       [ 1.73380546],\n",
       "       [-0.68787857],\n",
       "       [-1.18731032],\n",
       "       [ 0.76106979],\n",
       "       [-0.56828515],\n",
       "       [-2.78145941],\n",
       "       [ 1.50882013],\n",
       "       [ 1.32082988],\n",
       "       [ 2.46621281],\n",
       "       [ 0.84942502],\n",
       "       [-2.29780366],\n",
       "       [ 0.3779457 ],\n",
       "       [-0.97523409],\n",
       "       [-0.28507634],\n",
       "       [-3.71368459],\n",
       "       [ 1.58092089],\n",
       "       [ 0.31731531],\n",
       "       [ 1.10655281],\n",
       "       [-1.91782644],\n",
       "       [ 0.68649211],\n",
       "       [-2.57853819],\n",
       "       [ 1.68560428],\n",
       "       [-2.13452701],\n",
       "       [-1.78051948],\n",
       "       [ 0.04790333],\n",
       "       [ 1.08152151],\n",
       "       [ 1.18413862],\n",
       "       [-0.99633475],\n",
       "       [ 0.8370308 ],\n",
       "       [-0.14161601],\n",
       "       [ 0.59112257],\n",
       "       [ 2.00403825],\n",
       "       [ 0.0602494 ],\n",
       "       [-1.7199815 ],\n",
       "       [ 2.45025629],\n",
       "       [ 0.06130445],\n",
       "       [-0.3756973 ],\n",
       "       [ 1.82951995],\n",
       "       [-2.64222213],\n",
       "       [ 1.92610445],\n",
       "       [ 0.4906309 ],\n",
       "       [ 1.07842679],\n",
       "       [ 1.00850959],\n",
       "       [ 0.85677067],\n",
       "       [-1.84266329],\n",
       "       [-2.64902789],\n",
       "       [ 1.42657862],\n",
       "       [ 0.5697913 ],\n",
       "       [-0.75155463],\n",
       "       [-0.50228115],\n",
       "       [-1.56284223],\n",
       "       [-0.9558122 ],\n",
       "       [ 1.20841553],\n",
       "       [ 0.98511257],\n",
       "       [ 0.08933439],\n",
       "       [ 1.04715748],\n",
       "       [-0.20283339],\n",
       "       [ 1.64680206],\n",
       "       [ 2.49385259],\n",
       "       [-1.38674835],\n",
       "       [ 2.18980138],\n",
       "       [ 0.92437571],\n",
       "       [-0.14840932],\n",
       "       [-0.28413088],\n",
       "       [ 0.65766853],\n",
       "       [-1.52993407],\n",
       "       [-1.53525017],\n",
       "       [-0.0879915 ],\n",
       "       [ 1.27382045],\n",
       "       [ 1.66515585],\n",
       "       [-0.01545202],\n",
       "       [-0.85172767],\n",
       "       [-0.21493423],\n",
       "       [ 2.40880609],\n",
       "       [ 0.3847701 ],\n",
       "       [ 1.06914131],\n",
       "       [-0.16096464],\n",
       "       [-1.16773648],\n",
       "       [-2.46394829],\n",
       "       [ 2.54796298],\n",
       "       [-0.89257277],\n",
       "       [ 1.52379418],\n",
       "       [ 0.44449905],\n",
       "       [-3.04716146],\n",
       "       [-0.93236408],\n",
       "       [-2.54474358],\n",
       "       [-2.12235117],\n",
       "       [ 1.45476595],\n",
       "       [-2.74571142],\n",
       "       [ 1.86951267],\n",
       "       [ 0.57513142],\n",
       "       [ 0.62099182],\n",
       "       [-1.29494241],\n",
       "       [-1.19130784],\n",
       "       [ 0.24707958],\n",
       "       [-2.24803583],\n",
       "       [ 1.05604935],\n",
       "       [-2.33202239],\n",
       "       [-2.94876664],\n",
       "       [-1.2321581 ],\n",
       "       [ 0.87139455],\n",
       "       [ 1.18903099],\n",
       "       [ 0.26751144]])"
      ]
     },
     "execution_count": 40,
     "metadata": {
      "tags": []
     },
     "output_type": "execute_result"
    }
   ],
   "source": [
    "x_train"
   ]
  },
  {
   "cell_type": "code",
   "execution_count": 41,
   "metadata": {
    "id": "FTmTsRmXL7_R"
   },
   "outputs": [],
   "source": [
    "from sklearn.linear_model import LogisticRegression\n",
    "classifier1 = LogisticRegression(random_state = 0)\n",
    "classifier1.fit(x_train, y_train)\n",
    "y_pred1=classifier1.predict(x_test)"
   ]
  },
  {
   "cell_type": "code",
   "execution_count": 42,
   "metadata": {
    "id": "_Kc-mKc1L7_S"
   },
   "outputs": [],
   "source": [
    "from sklearn.neighbors import KNeighborsClassifier\n",
    "classifier2 = KNeighborsClassifier(n_neighbors = 10, metric = 'minkowski', p = 2)\n",
    "classifier2.fit(x_train, y_train)\n",
    "y_pred2=classifier2.predict(x_test)"
   ]
  },
  {
   "cell_type": "code",
   "execution_count": 43,
   "metadata": {
    "id": "M1qiNyhaL7_S"
   },
   "outputs": [],
   "source": [
    "from sklearn.svm import SVC\n",
    "classifier3 = SVC(kernel = 'linear', random_state = 0)\n",
    "classifier3.fit(x_train, y_train)\n",
    "y_pred3=classifier3.predict(x_test)"
   ]
  },
  {
   "cell_type": "code",
   "execution_count": 44,
   "metadata": {
    "id": "RnhmHmZUL7_T"
   },
   "outputs": [],
   "source": [
    "from sklearn.naive_bayes import GaussianNB\n",
    "classifier4=GaussianNB()\n",
    "classifier4.fit(x_train, y_train)\n",
    "y_pred4=classifier4.predict(x_test)"
   ]
  },
  {
   "cell_type": "code",
   "execution_count": 45,
   "metadata": {
    "id": "qgXMW4ieL7_T"
   },
   "outputs": [],
   "source": [
    "from sklearn.tree import DecisionTreeClassifier\n",
    "classifier5 = DecisionTreeClassifier(criterion = 'entropy', random_state = 0)\n",
    "classifier5.fit(x_train, y_train)\n",
    "y_pred5=classifier5.predict(x_test)"
   ]
  },
  {
   "cell_type": "code",
   "execution_count": 46,
   "metadata": {
    "id": "UTMR_dxiL7_U"
   },
   "outputs": [],
   "source": [
    "from sklearn.ensemble import RandomForestClassifier\n",
    "classifier6 = RandomForestClassifier(n_estimators = 10, criterion = 'entropy', random_state = 0)\n",
    "classifier6.fit(x_train, y_train)\n",
    "y_pred6=classifier6.predict(x_test)"
   ]
  },
  {
   "cell_type": "code",
   "execution_count": 47,
   "metadata": {
    "id": "iMzw-6nNv5dO"
   },
   "outputs": [],
   "source": [
    "from sklearn.linear_model import  SGDClassifier\n",
    "classifier7 =  SGDClassifier(random_state=42)\n",
    "classifier7.fit(x_train, y_train) \n",
    "y_pred7 = classifier7.predict(x_test)"
   ]
  },
  {
   "cell_type": "code",
   "execution_count": 48,
   "metadata": {
    "id": "wurG7hizv5aM"
   },
   "outputs": [],
   "source": [
    "from sklearn.linear_model import PassiveAggressiveClassifier\n",
    "classifier8 = PassiveAggressiveClassifier()\n",
    "classifier8.fit(x_train, y_train)\n",
    "y_pred8=classifier8.predict(x_test)"
   ]
  },
  {
   "cell_type": "code",
   "execution_count": 49,
   "metadata": {
    "id": "kyghJ3dw6JMS"
   },
   "outputs": [],
   "source": [
    "from sklearn.ensemble import AdaBoostClassifier\n",
    "classifier9 = AdaBoostClassifier(n_estimators=100, random_state=0)\n",
    "classifier9.fit(x_train, y_train)\n",
    "y_pred9=classifier9.predict(x_test)"
   ]
  },
  {
   "cell_type": "code",
   "execution_count": 50,
   "metadata": {
    "id": "G46diaxy6JFw"
   },
   "outputs": [],
   "source": [
    "from sklearn.ensemble import VotingClassifier\n",
    "classifier10 = VotingClassifier(estimators=[('lr', classifier1), ('knn', classifier2), ('svc', classifier3)], voting='hard')\n",
    "classifier10.fit(x_train, y_train)\n",
    "y_pred10 = classifier10.predict(x_test)"
   ]
  },
  {
   "cell_type": "code",
   "execution_count": 50,
   "metadata": {
    "id": "uO8sM65I6I8c"
   },
   "outputs": [],
   "source": []
  },
  {
   "cell_type": "code",
   "execution_count": 50,
   "metadata": {
    "id": "OBihnPLS6IzT"
   },
   "outputs": [],
   "source": []
  },
  {
   "cell_type": "code",
   "execution_count": 51,
   "metadata": {
    "colab": {
     "base_uri": "https://localhost:8080/"
    },
    "id": "SFQUrF5zv5XT",
    "outputId": "ac738e51-c58b-4de5-85be-c6e5ff75e399"
   },
   "outputs": [
    {
     "name": "stdout",
     "output_type": "stream",
     "text": [
      "[[21  6]\n",
      " [ 4 30]]\n",
      "0.8360655737704918\n",
      "0.8324175824175823\n",
      "0.8366666666666667\n",
      "0.8300653594771241\n",
      "0.8300653594771241\n",
      "              precision    recall  f1-score   support\n",
      "\n",
      "           0       0.84      0.78      0.81        27\n",
      "           1       0.83      0.88      0.86        34\n",
      "\n",
      "    accuracy                           0.84        61\n",
      "   macro avg       0.84      0.83      0.83        61\n",
      "weighted avg       0.84      0.84      0.84        61\n",
      "\n",
      "0.8300653594771241\n"
     ]
    }
   ],
   "source": [
    "from sklearn.metrics import confusion_matrix,plot_confusion_matrix, balanced_accuracy_score, accuracy_score ,f1_score, precision_score, recall_score,classification_report, plot_roc_curve,roc_auc_score\n",
    "cm = confusion_matrix(y_test, y_pred1)\n",
    "print(cm)\n",
    "#plot_confusion_matrix(classifier,x_test,y_test,values_format='d')\n",
    "#plt.show()\n",
    "print(accuracy_score(y_test, y_pred1))\n",
    "print(f1_score(y_test, y_pred1,average='macro'))\n",
    "print(precision_score(y_test,y_pred1,average='macro'))\n",
    "print(recall_score(y_test,y_pred1,average='macro'))\n",
    "print(balanced_accuracy_score(y_test,y_pred1))\n",
    "print(classification_report(y_test, y_pred1))\n",
    "\n",
    "#plot_roc_curve(classifier1,x_test,y_test)\n",
    "\n",
    "print(roc_auc_score(y_test,y_pred1,average='macro'))"
   ]
  },
  {
   "cell_type": "code",
   "execution_count": 52,
   "metadata": {
    "colab": {
     "base_uri": "https://localhost:8080/"
    },
    "id": "rBKfjN49v5Uf",
    "outputId": "30f306c8-1d01-4a7d-f529-d73202d3bcdc"
   },
   "outputs": [
    {
     "name": "stdout",
     "output_type": "stream",
     "text": [
      "[[23  4]\n",
      " [ 7 27]]\n",
      "0.819672131147541\n",
      "0.81889338731444\n",
      "0.8188172043010753\n",
      "0.8229847494553377\n",
      "0.8229847494553377\n",
      "              precision    recall  f1-score   support\n",
      "\n",
      "           0       0.77      0.85      0.81        27\n",
      "           1       0.87      0.79      0.83        34\n",
      "\n",
      "    accuracy                           0.82        61\n",
      "   macro avg       0.82      0.82      0.82        61\n",
      "weighted avg       0.82      0.82      0.82        61\n",
      "\n",
      "0.8229847494553376\n"
     ]
    }
   ],
   "source": [
    "from sklearn.metrics import confusion_matrix,plot_confusion_matrix, balanced_accuracy_score, accuracy_score ,f1_score, precision_score, recall_score,classification_report, plot_roc_curve,roc_auc_score\n",
    "cm = confusion_matrix(y_test, y_pred2)\n",
    "print(cm)\n",
    "#plot_confusion_matrix(classifier,x_test,y_test,values_format='d')\n",
    "#plt.show()\n",
    "print(accuracy_score(y_test, y_pred2))\n",
    "print(f1_score(y_test, y_pred2,average='macro'))\n",
    "print(precision_score(y_test,y_pred2,average='macro'))\n",
    "print(recall_score(y_test,y_pred2,average='macro'))\n",
    "print(balanced_accuracy_score(y_test,y_pred2))\n",
    "print(classification_report(y_test, y_pred2))\n",
    "\n",
    "#plot_roc_curve(classifier1,x_test,y_test)\n",
    "\n",
    "print(roc_auc_score(y_test,y_pred2,average='macro'))"
   ]
  },
  {
   "cell_type": "code",
   "execution_count": 53,
   "metadata": {
    "colab": {
     "base_uri": "https://localhost:8080/"
    },
    "id": "2Ft73J1Uv5RZ",
    "outputId": "aae4ac39-d0a4-4b48-cdfe-a7a49d60c9ac"
   },
   "outputs": [
    {
     "name": "stdout",
     "output_type": "stream",
     "text": [
      "[[20  7]\n",
      " [ 3 31]]\n",
      "0.8360655737704918\n",
      "0.8305555555555555\n",
      "0.8426773455377574\n",
      "0.8262527233115469\n",
      "0.8262527233115469\n",
      "              precision    recall  f1-score   support\n",
      "\n",
      "           0       0.87      0.74      0.80        27\n",
      "           1       0.82      0.91      0.86        34\n",
      "\n",
      "    accuracy                           0.84        61\n",
      "   macro avg       0.84      0.83      0.83        61\n",
      "weighted avg       0.84      0.84      0.83        61\n",
      "\n",
      "0.8262527233115468\n"
     ]
    }
   ],
   "source": [
    "from sklearn.metrics import confusion_matrix,plot_confusion_matrix,accuracy_score ,f1_score, precision_score, recall_score,classification_report, plot_roc_curve,roc_auc_score\n",
    "cm = confusion_matrix(y_test, y_pred3)\n",
    "print(cm)\n",
    "#plot_confusion_matrix(classifier,x_test,y_test,values_format='d')\n",
    "#plt.show()\n",
    "print(accuracy_score(y_test, y_pred3))\n",
    "print(f1_score(y_test, y_pred3,average='macro'))\n",
    "print(precision_score(y_test,y_pred3,average='macro'))\n",
    "print(recall_score(y_test,y_pred3,average='macro'))\n",
    "print(balanced_accuracy_score(y_test,y_pred3))\n",
    "print(classification_report(y_test, y_pred3))\n",
    "\n",
    "#plot_roc_curve(classifier1,x_test,y_test)\n",
    "\n",
    "print(roc_auc_score(y_test,y_pred3,average='macro'))"
   ]
  },
  {
   "cell_type": "code",
   "execution_count": 54,
   "metadata": {
    "colab": {
     "base_uri": "https://localhost:8080/"
    },
    "id": "NXUiA4xyv5Oa",
    "outputId": "5a67b83e-71f5-4583-918b-f22d4b1310af"
   },
   "outputs": [
    {
     "name": "stdout",
     "output_type": "stream",
     "text": [
      "[[20  7]\n",
      " [ 3 31]]\n",
      "0.8360655737704918\n",
      "0.8305555555555555\n",
      "0.8426773455377574\n",
      "0.8262527233115469\n",
      "0.8262527233115469\n",
      "              precision    recall  f1-score   support\n",
      "\n",
      "           0       0.87      0.74      0.80        27\n",
      "           1       0.82      0.91      0.86        34\n",
      "\n",
      "    accuracy                           0.84        61\n",
      "   macro avg       0.84      0.83      0.83        61\n",
      "weighted avg       0.84      0.84      0.83        61\n",
      "\n",
      "0.8262527233115468\n"
     ]
    }
   ],
   "source": [
    "from sklearn.metrics import confusion_matrix,plot_confusion_matrix,accuracy_score ,f1_score, precision_score, recall_score,classification_report, plot_roc_curve,roc_auc_score\n",
    "cm = confusion_matrix(y_test, y_pred4)\n",
    "print(cm)\n",
    "#plot_confusion_matrix(classifier,x_test,y_test,values_format='d')\n",
    "#plt.show()\n",
    "print(accuracy_score(y_test, y_pred4))\n",
    "print(f1_score(y_test, y_pred4,average='macro'))\n",
    "print(precision_score(y_test,y_pred4,average='macro'))\n",
    "print(recall_score(y_test,y_pred4,average='macro'))\n",
    "print(balanced_accuracy_score(y_test,y_pred4))\n",
    "print(classification_report(y_test, y_pred4))\n",
    "\n",
    "#plot_roc_curve(classifier1,x_test,y_test)\n",
    "\n",
    "print(roc_auc_score(y_test,y_pred4,average='macro'))"
   ]
  },
  {
   "cell_type": "code",
   "execution_count": 55,
   "metadata": {
    "colab": {
     "base_uri": "https://localhost:8080/"
    },
    "id": "1Cf9wgJyv5L0",
    "outputId": "7c348c02-35d2-46f5-c5c1-e4ea2abdbc0d"
   },
   "outputs": [
    {
     "name": "stdout",
     "output_type": "stream",
     "text": [
      "[[20  7]\n",
      " [ 7 27]]\n",
      "0.7704918032786885\n",
      "0.7674291938997821\n",
      "0.7674291938997821\n",
      "0.7674291938997821\n",
      "0.7674291938997821\n",
      "              precision    recall  f1-score   support\n",
      "\n",
      "           0       0.74      0.74      0.74        27\n",
      "           1       0.79      0.79      0.79        34\n",
      "\n",
      "    accuracy                           0.77        61\n",
      "   macro avg       0.77      0.77      0.77        61\n",
      "weighted avg       0.77      0.77      0.77        61\n",
      "\n",
      "0.767429193899782\n"
     ]
    }
   ],
   "source": [
    "from sklearn.metrics import confusion_matrix,plot_confusion_matrix,accuracy_score ,f1_score, precision_score, recall_score,classification_report, plot_roc_curve,roc_auc_score\n",
    "cm = confusion_matrix(y_test, y_pred5)\n",
    "print(cm)\n",
    "#plot_confusion_matrix(classifier,x_test,y_test,values_format='d')\n",
    "#plt.show()\n",
    "print(accuracy_score(y_test, y_pred5))\n",
    "print(f1_score(y_test, y_pred5,average='macro'))\n",
    "print(precision_score(y_test,y_pred5,average='macro'))\n",
    "print(recall_score(y_test,y_pred5,average='macro'))\n",
    "print(balanced_accuracy_score(y_test,y_pred5))\n",
    "print(classification_report(y_test, y_pred5))\n",
    "\n",
    "#plot_roc_curve(classifier1,x_test,y_test)\n",
    "\n",
    "print(roc_auc_score(y_test,y_pred5,average='macro'))"
   ]
  },
  {
   "cell_type": "code",
   "execution_count": 56,
   "metadata": {
    "colab": {
     "base_uri": "https://localhost:8080/"
    },
    "id": "g4Cu91oJv5JC",
    "outputId": "e0061b95-bd1f-4d0e-c267-124c11ecbed2"
   },
   "outputs": [
    {
     "name": "stdout",
     "output_type": "stream",
     "text": [
      "[[20  7]\n",
      " [ 7 27]]\n",
      "0.7704918032786885\n",
      "0.7674291938997821\n",
      "0.7674291938997821\n",
      "0.7674291938997821\n",
      "0.7674291938997821\n",
      "              precision    recall  f1-score   support\n",
      "\n",
      "           0       0.74      0.74      0.74        27\n",
      "           1       0.79      0.79      0.79        34\n",
      "\n",
      "    accuracy                           0.77        61\n",
      "   macro avg       0.77      0.77      0.77        61\n",
      "weighted avg       0.77      0.77      0.77        61\n",
      "\n",
      "0.767429193899782\n"
     ]
    }
   ],
   "source": [
    "from sklearn.metrics import confusion_matrix,plot_confusion_matrix,accuracy_score ,f1_score, precision_score, recall_score,classification_report, plot_roc_curve,roc_auc_score\n",
    "cm = confusion_matrix(y_test, y_pred6)\n",
    "print(cm)\n",
    "#plot_confusion_matrix(classifier,x_test,y_test,values_format='d')\n",
    "#plt.show()\n",
    "print(accuracy_score(y_test, y_pred6))\n",
    "print(f1_score(y_test, y_pred6,average='macro'))\n",
    "print(precision_score(y_test,y_pred6,average='macro'))\n",
    "print(recall_score(y_test,y_pred6,average='macro'))\n",
    "print(balanced_accuracy_score(y_test,y_pred6))\n",
    "print(classification_report(y_test, y_pred6))\n",
    "\n",
    "#plot_roc_curve(classifier1,x_test,y_test)\n",
    "\n",
    "print(roc_auc_score(y_test,y_pred6,average='macro'))"
   ]
  },
  {
   "cell_type": "code",
   "execution_count": 57,
   "metadata": {
    "colab": {
     "base_uri": "https://localhost:8080/"
    },
    "id": "4U7gCPT2v5GK",
    "outputId": "7967a821-d45a-45bc-a7da-74732395c883"
   },
   "outputs": [
    {
     "name": "stdout",
     "output_type": "stream",
     "text": [
      "[[21  6]\n",
      " [ 4 30]]\n",
      "0.8360655737704918\n",
      "0.8324175824175823\n",
      "0.8366666666666667\n",
      "0.8300653594771241\n",
      "0.8300653594771241\n",
      "              precision    recall  f1-score   support\n",
      "\n",
      "           0       0.84      0.78      0.81        27\n",
      "           1       0.83      0.88      0.86        34\n",
      "\n",
      "    accuracy                           0.84        61\n",
      "   macro avg       0.84      0.83      0.83        61\n",
      "weighted avg       0.84      0.84      0.84        61\n",
      "\n",
      "0.8300653594771241\n"
     ]
    }
   ],
   "source": [
    "from sklearn.metrics import confusion_matrix,plot_confusion_matrix,accuracy_score ,f1_score, precision_score, recall_score,classification_report, plot_roc_curve,roc_auc_score\n",
    "cm = confusion_matrix(y_test, y_pred7)\n",
    "print(cm)\n",
    "#plot_confusion_matrix(classifier,x_test,y_test,values_format='d')\n",
    "#plt.show()\n",
    "print(accuracy_score(y_test, y_pred7))\n",
    "print(f1_score(y_test, y_pred7,average='macro'))\n",
    "print(precision_score(y_test,y_pred7,average='macro'))\n",
    "print(recall_score(y_test,y_pred7,average='macro'))\n",
    "print(balanced_accuracy_score(y_test,y_pred7))\n",
    "print(classification_report(y_test, y_pred7))\n",
    "\n",
    "#plot_roc_curve(classifier1,x_test,y_test)\n",
    "\n",
    "print(roc_auc_score(y_test,y_pred7,average='macro'))"
   ]
  },
  {
   "cell_type": "code",
   "execution_count": 58,
   "metadata": {
    "colab": {
     "base_uri": "https://localhost:8080/"
    },
    "id": "KyjMJR1vv5Aq",
    "outputId": "276884a0-64c8-4ba7-e8ef-67fda6fbce38"
   },
   "outputs": [
    {
     "name": "stdout",
     "output_type": "stream",
     "text": [
      "[[ 3 24]\n",
      " [ 0 34]]\n",
      "0.6065573770491803\n",
      "0.4695652173913043\n",
      "0.7931034482758621\n",
      "0.5555555555555556\n",
      "0.5555555555555556\n",
      "              precision    recall  f1-score   support\n",
      "\n",
      "           0       1.00      0.11      0.20        27\n",
      "           1       0.59      1.00      0.74        34\n",
      "\n",
      "    accuracy                           0.61        61\n",
      "   macro avg       0.79      0.56      0.47        61\n",
      "weighted avg       0.77      0.61      0.50        61\n",
      "\n",
      "0.5555555555555556\n"
     ]
    }
   ],
   "source": [
    "from sklearn.metrics import confusion_matrix,plot_confusion_matrix, balanced_accuracy_score, accuracy_score ,f1_score, precision_score, recall_score,classification_report, plot_roc_curve,roc_auc_score\n",
    "cm = confusion_matrix(y_test, y_pred8)\n",
    "print(cm)\n",
    "#plot_confusion_matrix(classifier,x_test,y_test,values_format='d')\n",
    "#plt.show()\n",
    "print(accuracy_score(y_test, y_pred8))\n",
    "print(f1_score(y_test, y_pred8,average='macro'))\n",
    "print(precision_score(y_test,y_pred8,average='macro'))\n",
    "print(recall_score(y_test,y_pred8,average='macro'))\n",
    "print(balanced_accuracy_score(y_test,y_pred8))\n",
    "print(classification_report(y_test, y_pred8))\n",
    "\n",
    "#plot_roc_curve(classifier1,x_test,y_test)\n",
    "\n",
    "print(roc_auc_score(y_test,y_pred8,average='macro'))"
   ]
  },
  {
   "cell_type": "code",
   "execution_count": 59,
   "metadata": {
    "colab": {
     "base_uri": "https://localhost:8080/"
    },
    "id": "ASyZDssZ6WJ1",
    "outputId": "a5ac94dc-8f6b-427c-8fcd-9db674d17445"
   },
   "outputs": [
    {
     "name": "stdout",
     "output_type": "stream",
     "text": [
      "[[24  3]\n",
      " [ 7 27]]\n",
      "0.8360655737704918\n",
      "0.8356681034482758\n",
      "0.8370967741935484\n",
      "0.8415032679738561\n",
      "0.8415032679738561\n",
      "              precision    recall  f1-score   support\n",
      "\n",
      "           0       0.77      0.89      0.83        27\n",
      "           1       0.90      0.79      0.84        34\n",
      "\n",
      "    accuracy                           0.84        61\n",
      "   macro avg       0.84      0.84      0.84        61\n",
      "weighted avg       0.84      0.84      0.84        61\n",
      "\n",
      "0.841503267973856\n"
     ]
    }
   ],
   "source": [
    "from sklearn.metrics import confusion_matrix,plot_confusion_matrix, balanced_accuracy_score, accuracy_score ,f1_score, precision_score, recall_score,classification_report, plot_roc_curve,roc_auc_score\n",
    "cm = confusion_matrix(y_test, y_pred9)\n",
    "print(cm)\n",
    "#plot_confusion_matrix(classifier,x_test,y_test,values_format='d')\n",
    "#plt.show()\n",
    "print(accuracy_score(y_test, y_pred9))\n",
    "print(f1_score(y_test, y_pred9,average='macro'))\n",
    "print(precision_score(y_test,y_pred9,average='macro'))\n",
    "print(recall_score(y_test,y_pred9,average='macro'))\n",
    "print(balanced_accuracy_score(y_test,y_pred9))\n",
    "print(classification_report(y_test, y_pred9))\n",
    "\n",
    "#plot_roc_curve(classifier1,x_test,y_test)\n",
    "\n",
    "print(roc_auc_score(y_test,y_pred9,average='macro'))"
   ]
  },
  {
   "cell_type": "code",
   "execution_count": 60,
   "metadata": {
    "colab": {
     "base_uri": "https://localhost:8080/"
    },
    "id": "SNRgbSwS9JJa",
    "outputId": "cbfbfba3-8071-4bb0-a527-0f98d25251ad"
   },
   "outputs": [
    {
     "name": "stdout",
     "output_type": "stream",
     "text": [
      "[[21  6]\n",
      " [ 4 30]]\n",
      "0.8360655737704918\n",
      "0.8324175824175823\n",
      "0.8366666666666667\n",
      "0.8300653594771241\n",
      "0.8300653594771241\n",
      "              precision    recall  f1-score   support\n",
      "\n",
      "           0       0.84      0.78      0.81        27\n",
      "           1       0.83      0.88      0.86        34\n",
      "\n",
      "    accuracy                           0.84        61\n",
      "   macro avg       0.84      0.83      0.83        61\n",
      "weighted avg       0.84      0.84      0.84        61\n",
      "\n",
      "0.8300653594771241\n"
     ]
    }
   ],
   "source": [
    "from sklearn.metrics import confusion_matrix,plot_confusion_matrix, balanced_accuracy_score, accuracy_score ,f1_score, precision_score, recall_score,classification_report, plot_roc_curve,roc_auc_score\n",
    "cm = confusion_matrix(y_test, y_pred10)\n",
    "print(cm)\n",
    "#plot_confusion_matrix(classifier,x_test,y_test,values_format='d')\n",
    "#plt.show()\n",
    "print(accuracy_score(y_test, y_pred10))\n",
    "print(f1_score(y_test, y_pred10,average='macro'))\n",
    "print(precision_score(y_test,y_pred10,average='macro'))\n",
    "print(recall_score(y_test,y_pred10,average='macro'))\n",
    "print(balanced_accuracy_score(y_test,y_pred10))\n",
    "print(classification_report(y_test, y_pred10))\n",
    "\n",
    "#plot_roc_curve(classifier1,x_test,y_test)\n",
    "\n",
    "print(roc_auc_score(y_test,y_pred10,average='macro'))"
   ]
  },
  {
   "cell_type": "code",
   "execution_count": 60,
   "metadata": {
    "id": "mNA2VAeKw-Q7"
   },
   "outputs": [],
   "source": []
  },
  {
   "cell_type": "code",
   "execution_count": 60,
   "metadata": {
    "id": "jV3OhjvHw-NV"
   },
   "outputs": [],
   "source": []
  }
 ],
 "metadata": {
  "colab": {
   "name": "Heart_LDA.ipynb",
   "provenance": []
  },
  "kernelspec": {
   "display_name": "Python 3",
   "language": "python",
   "name": "python3"
  },
  "language_info": {
   "codemirror_mode": {
    "name": "ipython",
    "version": 3
   },
   "file_extension": ".py",
   "mimetype": "text/x-python",
   "name": "python",
   "nbconvert_exporter": "python",
   "pygments_lexer": "ipython3",
   "version": "3.7.3"
  }
 },
 "nbformat": 4,
 "nbformat_minor": 1
}
